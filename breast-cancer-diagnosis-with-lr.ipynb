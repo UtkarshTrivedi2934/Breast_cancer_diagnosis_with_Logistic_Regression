{
 "cells": [
  {
   "cell_type": "code",
   "execution_count": 1,
   "metadata": {
    "_cell_guid": "b1076dfc-b9ad-4769-8c92-a6c4dae69d19",
    "_uuid": "8f2839f25d086af736a60e9eeb907d3b93b6e0e5"
   },
   "outputs": [],
   "source": [
    "import numpy as np # linear algebra\n",
    "import pandas as pd # data processing, CSV file I/O (e.g. pd.read_csv)\n",
    "import matplotlib.pyplot as plt\n",
    "import seaborn as sns\n",
    "from sklearn.model_selection import train_test_split"
   ]
  },
  {
   "cell_type": "markdown",
   "metadata": {
    "_uuid": "b0dda6b809c8375b1ef187e65575326c87b164e1"
   },
   "source": [
    "Fetch the dataset into pandas dataframe:"
   ]
  },
  {
   "cell_type": "code",
   "execution_count": 2,
   "metadata": {
    "_cell_guid": "79c7e3d0-c299-4dcb-8224-4455121ee9b0",
    "_uuid": "d629ff2d2480ee46fbb7e2d37f6b5fab8052498a"
   },
   "outputs": [],
   "source": [
    "data = pd.read_csv(\"data.csv\")"
   ]
  },
  {
   "cell_type": "markdown",
   "metadata": {
    "_uuid": "6fe9d67a9e5f556d1e79bbef98f4fce8fd096aea"
   },
   "source": [
    "<a id=\"2\"></a> \n",
    "## Data Exploration and Cleaning\n",
    "\n",
    "To have a basic understanding of the data, we have to use pandas' `info` method."
   ]
  },
  {
   "cell_type": "code",
   "execution_count": 3,
   "metadata": {
    "_uuid": "7069fba58686045b8de0384562664da0029b05d3"
   },
   "outputs": [
    {
     "name": "stdout",
     "output_type": "stream",
     "text": [
      "<class 'pandas.core.frame.DataFrame'>\n",
      "RangeIndex: 569 entries, 0 to 568\n",
      "Data columns (total 33 columns):\n",
      " #   Column                   Non-Null Count  Dtype  \n",
      "---  ------                   --------------  -----  \n",
      " 0   id                       569 non-null    int64  \n",
      " 1   diagnosis                569 non-null    object \n",
      " 2   radius_mean              569 non-null    float64\n",
      " 3   texture_mean             569 non-null    float64\n",
      " 4   perimeter_mean           569 non-null    float64\n",
      " 5   area_mean                569 non-null    float64\n",
      " 6   smoothness_mean          569 non-null    float64\n",
      " 7   compactness_mean         569 non-null    float64\n",
      " 8   concavity_mean           569 non-null    float64\n",
      " 9   concave points_mean      569 non-null    float64\n",
      " 10  symmetry_mean            569 non-null    float64\n",
      " 11  fractal_dimension_mean   569 non-null    float64\n",
      " 12  radius_se                569 non-null    float64\n",
      " 13  texture_se               569 non-null    float64\n",
      " 14  perimeter_se             569 non-null    float64\n",
      " 15  area_se                  569 non-null    float64\n",
      " 16  smoothness_se            569 non-null    float64\n",
      " 17  compactness_se           569 non-null    float64\n",
      " 18  concavity_se             569 non-null    float64\n",
      " 19  concave points_se        569 non-null    float64\n",
      " 20  symmetry_se              569 non-null    float64\n",
      " 21  fractal_dimension_se     569 non-null    float64\n",
      " 22  radius_worst             569 non-null    float64\n",
      " 23  texture_worst            569 non-null    float64\n",
      " 24  perimeter_worst          569 non-null    float64\n",
      " 25  area_worst               569 non-null    float64\n",
      " 26  smoothness_worst         569 non-null    float64\n",
      " 27  compactness_worst        569 non-null    float64\n",
      " 28  concavity_worst          569 non-null    float64\n",
      " 29  concave points_worst     569 non-null    float64\n",
      " 30  symmetry_worst           569 non-null    float64\n",
      " 31  fractal_dimension_worst  569 non-null    float64\n",
      " 32  Unnamed: 32              0 non-null      float64\n",
      "dtypes: float64(31), int64(1), object(1)\n",
      "memory usage: 146.8+ KB\n"
     ]
    }
   ],
   "source": [
    "data.info()"
   ]
  },
  {
   "cell_type": "markdown",
   "metadata": {
    "_uuid": "54ebb867e61b3fb22f8b4331b2ca3cf264939fdf"
   },
   "source": [
    "* There are 569 rows and 33 columns in the dataset.\n",
    "* `id` is an attribute with integer values, `diagnosis` is an object (string) type variable and the rest of the features are float numbers.\n",
    "* Luckily, there is no `NaN` values, excepting `Unnamed: 32` feature. All of the entries have `NaN` values for this column. So it has to be removed from the dataframe.  "
   ]
  },
  {
   "cell_type": "code",
   "execution_count": 4,
   "metadata": {
    "_uuid": "1d7c69546683376b0be339ac7210ba5f71e7a7f9"
   },
   "outputs": [],
   "source": [
    "data.drop(['Unnamed: 32'], axis=1, inplace=True)"
   ]
  },
  {
   "cell_type": "markdown",
   "metadata": {
    "_uuid": "97bad6d4d68ded1660b1ffa641ded09ec6db16fe"
   },
   "source": [
    "Now let's take a glimpse of data with the first five entries, by using `head` method."
   ]
  },
  {
   "cell_type": "code",
   "execution_count": 5,
   "metadata": {
    "_uuid": "3329e3e901d95512aecb4eefee02e884da0579ae"
   },
   "outputs": [
    {
     "data": {
      "text/html": [
       "<div>\n",
       "<style scoped>\n",
       "    .dataframe tbody tr th:only-of-type {\n",
       "        vertical-align: middle;\n",
       "    }\n",
       "\n",
       "    .dataframe tbody tr th {\n",
       "        vertical-align: top;\n",
       "    }\n",
       "\n",
       "    .dataframe thead th {\n",
       "        text-align: right;\n",
       "    }\n",
       "</style>\n",
       "<table border=\"1\" class=\"dataframe\">\n",
       "  <thead>\n",
       "    <tr style=\"text-align: right;\">\n",
       "      <th></th>\n",
       "      <th>id</th>\n",
       "      <th>diagnosis</th>\n",
       "      <th>radius_mean</th>\n",
       "      <th>texture_mean</th>\n",
       "      <th>perimeter_mean</th>\n",
       "      <th>area_mean</th>\n",
       "      <th>smoothness_mean</th>\n",
       "      <th>compactness_mean</th>\n",
       "      <th>concavity_mean</th>\n",
       "      <th>concave points_mean</th>\n",
       "      <th>...</th>\n",
       "      <th>radius_worst</th>\n",
       "      <th>texture_worst</th>\n",
       "      <th>perimeter_worst</th>\n",
       "      <th>area_worst</th>\n",
       "      <th>smoothness_worst</th>\n",
       "      <th>compactness_worst</th>\n",
       "      <th>concavity_worst</th>\n",
       "      <th>concave points_worst</th>\n",
       "      <th>symmetry_worst</th>\n",
       "      <th>fractal_dimension_worst</th>\n",
       "    </tr>\n",
       "  </thead>\n",
       "  <tbody>\n",
       "    <tr>\n",
       "      <th>0</th>\n",
       "      <td>842302</td>\n",
       "      <td>M</td>\n",
       "      <td>17.99</td>\n",
       "      <td>10.38</td>\n",
       "      <td>122.80</td>\n",
       "      <td>1001.0</td>\n",
       "      <td>0.11840</td>\n",
       "      <td>0.27760</td>\n",
       "      <td>0.3001</td>\n",
       "      <td>0.14710</td>\n",
       "      <td>...</td>\n",
       "      <td>25.38</td>\n",
       "      <td>17.33</td>\n",
       "      <td>184.60</td>\n",
       "      <td>2019.0</td>\n",
       "      <td>0.1622</td>\n",
       "      <td>0.6656</td>\n",
       "      <td>0.7119</td>\n",
       "      <td>0.2654</td>\n",
       "      <td>0.4601</td>\n",
       "      <td>0.11890</td>\n",
       "    </tr>\n",
       "    <tr>\n",
       "      <th>1</th>\n",
       "      <td>842517</td>\n",
       "      <td>M</td>\n",
       "      <td>20.57</td>\n",
       "      <td>17.77</td>\n",
       "      <td>132.90</td>\n",
       "      <td>1326.0</td>\n",
       "      <td>0.08474</td>\n",
       "      <td>0.07864</td>\n",
       "      <td>0.0869</td>\n",
       "      <td>0.07017</td>\n",
       "      <td>...</td>\n",
       "      <td>24.99</td>\n",
       "      <td>23.41</td>\n",
       "      <td>158.80</td>\n",
       "      <td>1956.0</td>\n",
       "      <td>0.1238</td>\n",
       "      <td>0.1866</td>\n",
       "      <td>0.2416</td>\n",
       "      <td>0.1860</td>\n",
       "      <td>0.2750</td>\n",
       "      <td>0.08902</td>\n",
       "    </tr>\n",
       "    <tr>\n",
       "      <th>2</th>\n",
       "      <td>84300903</td>\n",
       "      <td>M</td>\n",
       "      <td>19.69</td>\n",
       "      <td>21.25</td>\n",
       "      <td>130.00</td>\n",
       "      <td>1203.0</td>\n",
       "      <td>0.10960</td>\n",
       "      <td>0.15990</td>\n",
       "      <td>0.1974</td>\n",
       "      <td>0.12790</td>\n",
       "      <td>...</td>\n",
       "      <td>23.57</td>\n",
       "      <td>25.53</td>\n",
       "      <td>152.50</td>\n",
       "      <td>1709.0</td>\n",
       "      <td>0.1444</td>\n",
       "      <td>0.4245</td>\n",
       "      <td>0.4504</td>\n",
       "      <td>0.2430</td>\n",
       "      <td>0.3613</td>\n",
       "      <td>0.08758</td>\n",
       "    </tr>\n",
       "    <tr>\n",
       "      <th>3</th>\n",
       "      <td>84348301</td>\n",
       "      <td>M</td>\n",
       "      <td>11.42</td>\n",
       "      <td>20.38</td>\n",
       "      <td>77.58</td>\n",
       "      <td>386.1</td>\n",
       "      <td>0.14250</td>\n",
       "      <td>0.28390</td>\n",
       "      <td>0.2414</td>\n",
       "      <td>0.10520</td>\n",
       "      <td>...</td>\n",
       "      <td>14.91</td>\n",
       "      <td>26.50</td>\n",
       "      <td>98.87</td>\n",
       "      <td>567.7</td>\n",
       "      <td>0.2098</td>\n",
       "      <td>0.8663</td>\n",
       "      <td>0.6869</td>\n",
       "      <td>0.2575</td>\n",
       "      <td>0.6638</td>\n",
       "      <td>0.17300</td>\n",
       "    </tr>\n",
       "    <tr>\n",
       "      <th>4</th>\n",
       "      <td>84358402</td>\n",
       "      <td>M</td>\n",
       "      <td>20.29</td>\n",
       "      <td>14.34</td>\n",
       "      <td>135.10</td>\n",
       "      <td>1297.0</td>\n",
       "      <td>0.10030</td>\n",
       "      <td>0.13280</td>\n",
       "      <td>0.1980</td>\n",
       "      <td>0.10430</td>\n",
       "      <td>...</td>\n",
       "      <td>22.54</td>\n",
       "      <td>16.67</td>\n",
       "      <td>152.20</td>\n",
       "      <td>1575.0</td>\n",
       "      <td>0.1374</td>\n",
       "      <td>0.2050</td>\n",
       "      <td>0.4000</td>\n",
       "      <td>0.1625</td>\n",
       "      <td>0.2364</td>\n",
       "      <td>0.07678</td>\n",
       "    </tr>\n",
       "  </tbody>\n",
       "</table>\n",
       "<p>5 rows × 32 columns</p>\n",
       "</div>"
      ],
      "text/plain": [
       "         id diagnosis  radius_mean  texture_mean  perimeter_mean  area_mean  \\\n",
       "0    842302         M        17.99         10.38          122.80     1001.0   \n",
       "1    842517         M        20.57         17.77          132.90     1326.0   \n",
       "2  84300903         M        19.69         21.25          130.00     1203.0   \n",
       "3  84348301         M        11.42         20.38           77.58      386.1   \n",
       "4  84358402         M        20.29         14.34          135.10     1297.0   \n",
       "\n",
       "   smoothness_mean  compactness_mean  concavity_mean  concave points_mean  \\\n",
       "0          0.11840           0.27760          0.3001              0.14710   \n",
       "1          0.08474           0.07864          0.0869              0.07017   \n",
       "2          0.10960           0.15990          0.1974              0.12790   \n",
       "3          0.14250           0.28390          0.2414              0.10520   \n",
       "4          0.10030           0.13280          0.1980              0.10430   \n",
       "\n",
       "   ...  radius_worst  texture_worst  perimeter_worst  area_worst  \\\n",
       "0  ...         25.38          17.33           184.60      2019.0   \n",
       "1  ...         24.99          23.41           158.80      1956.0   \n",
       "2  ...         23.57          25.53           152.50      1709.0   \n",
       "3  ...         14.91          26.50            98.87       567.7   \n",
       "4  ...         22.54          16.67           152.20      1575.0   \n",
       "\n",
       "   smoothness_worst  compactness_worst  concavity_worst  concave points_worst  \\\n",
       "0            0.1622             0.6656           0.7119                0.2654   \n",
       "1            0.1238             0.1866           0.2416                0.1860   \n",
       "2            0.1444             0.4245           0.4504                0.2430   \n",
       "3            0.2098             0.8663           0.6869                0.2575   \n",
       "4            0.1374             0.2050           0.4000                0.1625   \n",
       "\n",
       "   symmetry_worst  fractal_dimension_worst  \n",
       "0          0.4601                  0.11890  \n",
       "1          0.2750                  0.08902  \n",
       "2          0.3613                  0.08758  \n",
       "3          0.6638                  0.17300  \n",
       "4          0.2364                  0.07678  \n",
       "\n",
       "[5 rows x 32 columns]"
      ]
     },
     "execution_count": 5,
     "metadata": {},
     "output_type": "execute_result"
    }
   ],
   "source": [
    "data.head()"
   ]
  },
  {
   "cell_type": "markdown",
   "metadata": {
    "_uuid": "6bceb435f6829719f4bea4221682c4f44137d05e"
   },
   "source": [
    "As we can observe from the table above, `id` is a unique value per individual patient.  \n",
    "It has nothing to do with diagnosis, so we have to eliminate it."
   ]
  },
  {
   "cell_type": "code",
   "execution_count": 6,
   "metadata": {
    "_uuid": "57428ecbb9338983881e541db13b85cb6db67152"
   },
   "outputs": [],
   "source": [
    "data.drop(['id'], axis=1, inplace=True)"
   ]
  },
  {
   "cell_type": "markdown",
   "metadata": {
    "_uuid": "47be60f05385094ee616570eee21eb9a32eac298"
   },
   "source": [
    "<a id=\"3\"></a> \n",
    "## Data Preparation"
   ]
  },
  {
   "cell_type": "code",
   "execution_count": 7,
   "metadata": {
    "_uuid": "a406c7452e1e9cf218efdd26f8a8f2f5aaff97d5"
   },
   "outputs": [
    {
     "data": {
      "text/plain": [
       "B    357\n",
       "M    212\n",
       "Name: diagnosis, dtype: int64"
      ]
     },
     "execution_count": 7,
     "metadata": {},
     "output_type": "execute_result"
    }
   ],
   "source": [
    "data.diagnosis.value_counts()"
   ]
  },
  {
   "cell_type": "markdown",
   "metadata": {
    "_uuid": "aebd041a7a8bbdbf2d92894d39f6081ce38aec2e"
   },
   "source": [
    "`diagnosis` is the label (target) of the dataset.  \n",
    "* `B` indicates Benign  \n",
    "* `M` indicates Malignant\n",
    "\n",
    "When it comes to label, we do not prefer working with object-type variables. So let's change them:\n",
    "* `1` → `M`\n",
    "* `0` → `B`"
   ]
  },
  {
   "cell_type": "code",
   "execution_count": 8,
   "metadata": {
    "_uuid": "50511def4f6910a75ad446a6371f3dd92495ad6c"
   },
   "outputs": [],
   "source": [
    "data.diagnosis = [1 if each == \"M\" else 0 for each in data.diagnosis]"
   ]
  },
  {
   "cell_type": "markdown",
   "metadata": {
    "_uuid": "1a5bd0d979df7e235388e0cb9f7fb2b7bfcf749a"
   },
   "source": [
    "Target feature will be held in `y`, and the rest of attributes the will be held in `x`."
   ]
  },
  {
   "cell_type": "code",
   "execution_count": 9,
   "metadata": {
    "_uuid": "f99dde767d4a863509d5fa9878cd832d998ab554"
   },
   "outputs": [],
   "source": [
    "y = data.diagnosis.values\n",
    "x = data.drop(['diagnosis'], axis=1)"
   ]
  },
  {
   "cell_type": "markdown",
   "metadata": {
    "_uuid": "14e206d10209f6004e002586282211407630d7f1"
   },
   "source": [
    "Normalizing variables is importing to avoid imbalanced weights during learning. We want all values to be scaled between 0 and 1."
   ]
  },
  {
   "cell_type": "code",
   "execution_count": 10,
   "metadata": {
    "_uuid": "7d90f30339bf7ec344707dc5e3b827b3f565940f"
   },
   "outputs": [
    {
     "name": "stderr",
     "output_type": "stream",
     "text": [
      "D:\\ANACONDA\\lib\\site-packages\\numpy\\core\\fromnumeric.py:84: FutureWarning: In a future version, DataFrame.min(axis=None) will return a scalar min over the entire DataFrame. To retain the old behavior, use 'frame.min(axis=0)' or just 'frame.min()'\n",
      "  return reduction(axis=axis, out=out, **passkwargs)\n",
      "D:\\ANACONDA\\lib\\site-packages\\numpy\\core\\fromnumeric.py:84: FutureWarning: In a future version, DataFrame.max(axis=None) will return a scalar max over the entire DataFrame. To retain the old behavior, use 'frame.max(axis=0)' or just 'frame.max()'\n",
      "  return reduction(axis=axis, out=out, **passkwargs)\n",
      "D:\\ANACONDA\\lib\\site-packages\\numpy\\core\\fromnumeric.py:84: FutureWarning: In a future version, DataFrame.min(axis=None) will return a scalar min over the entire DataFrame. To retain the old behavior, use 'frame.min(axis=0)' or just 'frame.min()'\n",
      "  return reduction(axis=axis, out=out, **passkwargs)\n"
     ]
    }
   ],
   "source": [
    "x = (x - np.min(x) ) / ( np.max(x) - np.min(x) ).values"
   ]
  },
  {
   "cell_type": "markdown",
   "metadata": {
    "_uuid": "77db9d889270e0e845e2aafe51cc51d8baca896d"
   },
   "source": [
    "<a id=\"4\"></a> \n",
    "## Split Test and Train Variables\n",
    "\n",
    "We have to split our data to create train and test variables. To do so, we will be using `sklearn`'s `train_test_split method`.  \n",
    "\n",
    "We set the`test_size` parameter to `0.2`, so the train values will be randomly 80% of the data.  Let's briefly describe what all four values correspond to:\n",
    "* `x_train` : randomly 80% of data with features of `x` (`radius_mean`, `texture_mean`, etc.)\n",
    "* `x_test` : randomly 20% (the rest) of data with features of `x`\n",
    "* `y_train` : randomly 80% of data with feature of `y` (`diagnosis`, the target feature)\n",
    "* `y_test` : randomly 20% (the rest) of data with feature of `y`  \n"
   ]
  },
  {
   "cell_type": "code",
   "execution_count": 12,
   "metadata": {
    "_uuid": "536aa90caa8c0e7e1194f7d53c7c7c62d3d13814"
   },
   "outputs": [],
   "source": [
    "x_train, x_test, y_train, y_test = train_test_split(x, y, test_size = 0.2, random_state = 5)\n",
    "\n",
    "x_train = x_train.T\n",
    "x_test = x_test.T\n",
    "y_train = y_train.T\n",
    "y_test = y_test.T"
   ]
  },
  {
   "cell_type": "code",
   "execution_count": 13,
   "metadata": {
    "_uuid": "bc4b56c3ffc788a797d079a963b70a8bc47ae5f6"
   },
   "outputs": [],
   "source": [
    "def initialize_weights_and_bias(dimension):\n",
    "    w = np.full((dimension,1),0.01)\n",
    "    b = 0.0\n",
    "    return w, b"
   ]
  },
  {
   "cell_type": "markdown",
   "metadata": {
    "_uuid": "391554ac4e93e0425e8b79622d08c6b212f80a9f"
   },
   "source": [
    "We need the optimized values of bias and weights so that the algorithm will produce the outputs that are closest to real values.\n",
    "\n",
    "\n",
    "\n",
    "After the summation part, we get the output ( $\\large ý$ ) of our algorithm. We need a **threshold** to check whether the numeric output corresponds to `Malignant` or `Benign`. The **sigmoid function** comes handy here to do so."
   ]
  },
  {
   "cell_type": "markdown",
   "metadata": {
    "_uuid": "ce8b32a6b4da9e8d45dd2ebf717ac07617f1073d"
   },
   "source": [
    "<a id=\"6\"></a> <br>\n",
    "### Sigmoid Function\n",
    "\n",
    "A sigmoid function is a mathematical function having a characteristic \"S\"-shaped curve or sigmoid curve. [Source of definition](https://en.wikipedia.org/wiki/Sigmoid_function)  \n",
    "The formula of the sigmoid function is:\n",
    "\n",
    "$$\\LARGE f(x)=\\frac{1}{1+e^{-x}}$$\n",
    "\n",
    "The figure below is how it looks like:\n",
    "\n",
    "![sigmoid-function](https://upload.wikimedia.org/wikipedia/commons/thumb/8/88/Logistic-curve.svg/320px-Logistic-curve.svg.png)\n",
    "\n",
    "We will be using sigmoid function as threshold to determine whether output corresponds to 0 or 1. If value is below the threshold (< 0.5) it is going to be considered as 0, otherwise 1.\n",
    "\n",
    "After checking the output, we rearrange the bias and weights and go back to first step (and keep doing it until their optimized values).  \n",
    "\n",
    "Let's code our sigmoid function:"
   ]
  },
  {
   "cell_type": "code",
   "execution_count": 14,
   "metadata": {
    "_uuid": "25ba9766779900f52f124422c4c7f748bba24ad2"
   },
   "outputs": [],
   "source": [
    "def sigmoid(z):\n",
    "    output = 1/( 1 + np.exp(-z) )\n",
    "    return output"
   ]
  },
  {
   "cell_type": "markdown",
   "metadata": {
    "_uuid": "127ca885936d2898503ad15fb10acd0a5790d4e4"
   },
   "source": [
    "After defining the sigmoid function, all we have to do is passing our prediction ( $ \\large ý$ ) to sigmoid function, and getting the output as 0 or 1. In our case, as we defined before, `0` means Benign and `1` means Malignant.  \n",
    "\n",
    "Getting the output via sigmoid function is okay, but how can we know how well we predicted it?  \n",
    "The answer is by using **Loss Functions**."
   ]
  },
  {
   "cell_type": "markdown",
   "metadata": {
    "_uuid": "1e2dea7e49e2434ff85b28c5b085b931a6fad60c"
   },
   "source": [
    "<a id=\"7\"><br></a>\n",
    "### Loss Function\n",
    "\n",
    "Loss function is basicly calculating the difference between predicted value and real value of target feature. But here, we will be using a kind of specialized loss function, which is **log loss (cross entry loss)**.  \n",
    "Let's examine the formula of log loss function:  \n",
    "\n",
    "$$\\LARGE -( y log(ý) + (1-y)log(1-ý) ) $$\n",
    "\n",
    "As you can observe from the formula above, if we predict the value as 0, and the real value of label is 0 too (which means we guessed right), then the output of loss function is 0. It is valid for vice versa (both predicted and real values are 1).  \n",
    "Otherwise if we cannot guess it right, then the output of the function would be so high.  \n",
    "\n",
    "As a conclusion, *lower the output of loss function, better we predicted the label*.\n",
    "\n",
    "We measured the error size of one algorithm via loss function.  We have to add all loss function outputs to get the **cost function**."
   ]
  },
  {
   "cell_type": "code",
   "execution_count": 15,
   "metadata": {
    "_uuid": "745b38df959c5b0c6f9e070947d0d427fb249db6"
   },
   "outputs": [],
   "source": [
    "def forward_backward_propagation(w,b,x_train,y_train):\n",
    "    y_ = np.dot(w.T,x_train) + b # numeric output of regression algorithm\n",
    "    y_pre = sigmoid(y_) # binary output of sigmoid function\n",
    "    loss = -y_train*np.log(y_pre)-(1-y_train)*np.log(1-y_pre) # output of loss function\n",
    "    cost = (np.sum(loss))/x_train.shape[1] # x_train.shape[1]  is for scaling"
   ]
  },
  {
   "cell_type": "markdown",
   "metadata": {
    "_uuid": "94345a58007f52aa6aa62e58371a99c40bf15b72"
   },
   "source": [
    "<a id=\"8\"><br></a>\n",
    "### Optimizing Algorithm with Gradient Descent\n",
    "\n",
    "We measured how well our algorithms can predict via cost function. Now it is time to optimize algorithm's parameters (weights and bias) so that it can learn from data and make better predictions. It will be handled by **gradient descent** method.  \n",
    "\n",
    "**What is Gradient Descent?**  \n",
    "Gradient descent is a first-order iterative optimization algorithm for finding the minimum of a function. To find a local minimum of a function using gradient descent, one takes steps proportional to the negative of the gradient (or approximate gradient) of the function at the current point. [Source of definition](https://en.wikipedia.org/wiki/Gradient_descent)  \n",
    "\n",
    "$$\\LARGE w := w - \\alpha \\frac{\\partial J(w)}{\\partial w} $$\n",
    "\n",
    "Here $\\large J(w)$ is the *cost*, we divide its derivative by $\\large w$'s derivative, so we get a numerical result like $\\large 0.02$. And then subtract it from the initial weight, and then update our weight with its new value. \n",
    "\n",
    "P.S: The $\\large \\alpha$ is the *learning rate*, determines how fast we learn. It shouldn't be too big (jumps over the optimal point) or too small (may never converge).\n",
    "\n",
    "Let's take a look at the schema to understand what I mean:\n",
    "\n",
    "![gradiend_descent](https://cdn-images-1.medium.com/max/1600/0*rBQI7uBhBKE8KT-X.png)  \n",
    "\n",
    "As you can see from the image above, we are updating our weight iteratively, until it converges to a local minimum. After convergence, the right part of the formula ( $\\large \\frac{\\partial J(w)}{\\partial w}$) will keep producing zero, which means weight is at the optimal point, and not about to change anymore.  \n",
    "\n",
    "In fact, we will be using bias in the formula too, and it's gonna look like this:\n",
    "\n",
    "$$\\LARGE w := w - \\alpha \\frac{\\partial J(w,b)}{\\partial (w,b)} $$  \n",
    "\n",
    "What we did above is called **backward propagation**. Let's implement it with 'forward propagation' in one function:"
   ]
  },
  {
   "cell_type": "code",
   "execution_count": 16,
   "metadata": {
    "_uuid": "ae5768a3897d6b6fab51c69a1ec0dc11599deb44"
   },
   "outputs": [],
   "source": [
    "def forward_backward_propagation(w,b,x_train,y_train):\n",
    "    # forward propagation\n",
    "    y_ = np.dot(w.T,x_train) + b # numeric output of regression algorithm\n",
    "    y_pre = sigmoid(y_) # binary output of sigmoid function\n",
    "    loss = -y_train*np.log(y_pre)-(1-y_train)*np.log(1-y_pre) # output of loss function\n",
    "    cost = (np.sum(loss))/x_train.shape[1] # x_train.shape[1]  is for scaling\n",
    "    # backward propagation\n",
    "    derivative_weight = (np.dot(x_train,((y_pre-y_train).T)))/x_train.shape[1] # x_train.shape[1]  is for scaling\n",
    "    derivative_bias = np.sum(y_pre-y_train)/x_train.shape[1]                 # x_train.shape[1]  is for scaling\n",
    "    gradients = {\"derivative_weight\": derivative_weight,\"derivative_bias\": derivative_bias}\n",
    "    return cost,gradients"
   ]
  },
  {
   "cell_type": "markdown",
   "metadata": {
    "_uuid": "4baca9891620569689f8a1d05dd395963653a7e2"
   },
   "source": [
    "We may call one forward and one backward propagation as one iteration. It can take our algorithm to somewhere, but obviously it wouldn't be enough. So we have to pick an arbitrary number for iteration ($\\large n$), and update our algorithm $\\large n$ times for learning.  \n",
    "\n",
    "<a id=\"9\"><br></a>\n",
    "### Update Function\n",
    "Let's create a function `update` and use this function to call the methods above to train our algorithm, and give some feedback about costs by printing cost values and visualizing them."
   ]
  },
  {
   "cell_type": "code",
   "execution_count": 17,
   "metadata": {
    "_uuid": "2257fc2d4e30a4a978fe65996dab1b4e549d24be"
   },
   "outputs": [],
   "source": [
    "def update(w, b, x_train, y_train, learning_rate,number_of_iterarion):\n",
    "    cost_list = []\n",
    "    cost_list2 = []\n",
    "    index = []\n",
    "    # updating(learning) parameters is number_of_iterarion times\n",
    "    for i in range(number_of_iterarion):\n",
    "        # make forward and backward propagation and find cost and gradients\n",
    "        cost,gradients = forward_backward_propagation(w,b,x_train,y_train)\n",
    "        cost_list.append(cost)\n",
    "        # lets update\n",
    "        w = w - learning_rate * gradients[\"derivative_weight\"]\n",
    "        b = b - learning_rate * gradients[\"derivative_bias\"]\n",
    "        if i % 10 == 0:\n",
    "            cost_list2.append(cost)\n",
    "            index.append(i)\n",
    "            print (\"Cost after iteration %i: %f\" %(i, cost))\n",
    "    # we update(learn) parameters weights and bias\n",
    "    parameters = {\"weight\": w,\"bias\": b}\n",
    "    plt.plot(index,cost_list2)\n",
    "    plt.xticks(index,rotation='vertical')\n",
    "    plt.xlabel(\"Number of Iterarion\")\n",
    "    plt.ylabel(\"Cost\")\n",
    "    plt.show()\n",
    "    return parameters, gradients, cost_list"
   ]
  },
  {
   "cell_type": "markdown",
   "metadata": {
    "_uuid": "c19342c4160241c5402239edb40d8b7478b70a9f"
   },
   "source": [
    "<a id=\"10\"><br></a>\n",
    "### Predict Method\n",
    "And it is time to code the `predict` method to create an interface between us and our algorithm."
   ]
  },
  {
   "cell_type": "code",
   "execution_count": 18,
   "metadata": {
    "_uuid": "9eeddd44e9370f42274cdf484ecab9a847c83593"
   },
   "outputs": [],
   "source": [
    "def predict(w,b,x_test):\n",
    "    # x_test is a input for forward propagation\n",
    "    z = sigmoid(np.dot(w.T,x_test)+b)\n",
    "    Y_prediction = np.zeros((1,x_test.shape[1]))\n",
    "    # if z is bigger than 0.5, our prediction is sign one (y_head=1),\n",
    "    # if z is smaller than 0.5, our prediction is sign zero (y_head=0),\n",
    "    for i in range(z.shape[1]):\n",
    "        if z[0,i]<= 0.5:\n",
    "            Y_prediction[0,i] = 0\n",
    "        else:\n",
    "            Y_prediction[0,i] = 1\n",
    "\n",
    "    return Y_prediction"
   ]
  },
  {
   "cell_type": "markdown",
   "metadata": {
    "_uuid": "95b5ed8cd1b4fc556b8272f246ae793cdcc04580"
   },
   "source": [
    "<a id=\"11\"><br></a>\n",
    "### Coding Logistic Regression\n",
    "And finally let's put all these things together, i.e, code our custom logistic regression function!"
   ]
  },
  {
   "cell_type": "code",
   "execution_count": 19,
   "metadata": {
    "_uuid": "c130ca1ad9823f96d603de037033b7bfc783c643",
    "scrolled": true
   },
   "outputs": [
    {
     "name": "stdout",
     "output_type": "stream",
     "text": [
      "Cost after iteration 0: 0.693953\n",
      "Cost after iteration 10: 0.497200\n",
      "Cost after iteration 20: 0.403702\n",
      "Cost after iteration 30: 0.348852\n",
      "Cost after iteration 40: 0.312591\n",
      "Cost after iteration 50: 0.286617\n",
      "Cost after iteration 60: 0.266939\n",
      "Cost after iteration 70: 0.251403\n",
      "Cost after iteration 80: 0.238747\n",
      "Cost after iteration 90: 0.228182\n"
     ]
    },
    {
     "data": {
      "image/png": "[encoded data removed]",
      "text/plain": [
       "<Figure size 640x480 with 1 Axes>"
      ]
     },
     "metadata": {},
     "output_type": "display_data"
    },
    {
     "name": "stdout",
     "output_type": "stream",
     "text": [
      "train accuracy: 94.72527472527473 %\n",
      "test accuracy: 93.85964912280701 %\n"
     ]
    }
   ],
   "source": [
    "def logistic_regression(x_train, y_train, x_test, y_test, learning_rate ,  num_iterations):\n",
    "    \n",
    "    dimension =  x_train.shape[0]\n",
    "    w,b = initialize_weights_and_bias(dimension)\n",
    "    \n",
    "    parameters, gradients, cost_list = update(w, b, x_train, y_train, learning_rate,num_iterations)\n",
    "    \n",
    "    y_prediction_test = predict(parameters[\"weight\"],parameters[\"bias\"],x_test)\n",
    "    y_prediction_train = predict(parameters[\"weight\"],parameters[\"bias\"],x_train)\n",
    "\n",
    "    # Print train/test Errors\n",
    "    print(\"train accuracy: {} %\".format(100 - np.mean(np.abs(y_prediction_train - y_train)) * 100))\n",
    "    print(\"test accuracy: {} %\".format(100 - np.mean(np.abs(y_prediction_test - y_test)) * 100))\n",
    "    \n",
    "logistic_regression(x_train, y_train, x_test, y_test,learning_rate = 1, num_iterations = 100) "
   ]
  },
  {
   "cell_type": "markdown",
   "metadata": {
    "_uuid": "bccd3d455917603e9e8914d9db9ac5b735252c3c"
   },
   "source": [
    "<a id=\"12\"><br></a>\n",
    "## Conclusions\n",
    "* Logistic Regression is a good way to classify binary labels, concluded from a lot of numerical features.\n",
    "* Cost gets smaller as the iteration of update (forward and backward propagation) increases.\n",
    "* We got an accuracy of `~93.86` on the `test` dataset."
   ]
  }
 ],
 "metadata": {
  "kernelspec": {
   "display_name": "Python 3 (ipykernel)",
   "language": "python",
   "name": "python3"
  },
  "language_info": {
   "codemirror_mode": {
    "name": "ipython",
    "version": 3
   },
   "file_extension": ".py",
   "mimetype": "text/x-python",
   "name": "python",
   "nbconvert_exporter": "python",
   "pygments_lexer": "ipython3",
   "version": "3.10.9"
  }
 },
 "nbformat": 4,
 "nbformat_minor": 4
}
